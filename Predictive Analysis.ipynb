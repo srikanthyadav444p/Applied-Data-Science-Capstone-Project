{
 "cells": [
  {
   "cell_type": "markdown",
   "metadata": {},
   "source": [
    "<p style=\"text-align:center\">\n",
    "    <a href=\"https://skills.network/?utm_medium=Exinfluencer&utm_source=Exinfluencer&utm_content=000026UJ&utm_term=10006555&utm_id=NA-SkillsNetwork-Channel-SkillsNetworkCoursesIBMDS0321ENSkillsNetwork26802033-2022-01-01\">\n",
    "    <img src=\"https://cf-courses-data.s3.us.cloud-object-storage.appdomain.cloud/assets/logos/SN_web_lightmode.png\" width=\"200\" alt=\"Skills Network Logo\"  />\n",
    "    </a>\n",
    "</p>\n"
   ]
  },
  {
   "cell_type": "markdown",
   "metadata": {},
   "source": [
    "# **Space X  Falcon 9 First Stage Landing Prediction**\n"
   ]
  },
  {
   "cell_type": "markdown",
   "metadata": {},
   "source": [
    "## Assignment:  Machine Learning Prediction\n"
   ]
  },
  {
   "cell_type": "markdown",
   "metadata": {},
   "source": [
    "Estimated time needed: **60** minutes\n"
   ]
  },
  {
   "cell_type": "markdown",
   "metadata": {},
   "source": [
    "Space X advertises Falcon 9 rocket launches on its website with a cost of 62 million dollars; other providers cost upward of 165 million dollars each, much of the savings is because Space X can reuse the first stage. Therefore if we can determine if the first stage will land, we can determine the cost of a launch. This information can be used if an alternate company wants to bid against space X for a rocket launch.   In this lab, you will create a machine learning pipeline  to predict if the first stage will land given the data from the preceding labs.\n"
   ]
  },
  {
   "cell_type": "markdown",
   "metadata": {},
   "source": [
    "![](https://cf-courses-data.s3.us.cloud-object-storage.appdomain.cloud/IBMDeveloperSkillsNetwork-DS0701EN-SkillsNetwork/api/Images/landing_1.gif)\n"
   ]
  },
  {
   "cell_type": "markdown",
   "metadata": {},
   "source": [
    "Several examples of an unsuccessful landing are shown here:\n"
   ]
  },
  {
   "cell_type": "markdown",
   "metadata": {},
   "source": [
    "![](https://cf-courses-data.s3.us.cloud-object-storage.appdomain.cloud/IBMDeveloperSkillsNetwork-DS0701EN-SkillsNetwork/api/Images/crash.gif)\n"
   ]
  },
  {
   "cell_type": "markdown",
   "metadata": {},
   "source": [
    "Most unsuccessful landings are planed. Space X; performs a controlled landing in the oceans.\n"
   ]
  },
  {
   "cell_type": "markdown",
   "metadata": {},
   "source": [
    "## Objectives\n"
   ]
  },
  {
   "cell_type": "markdown",
   "metadata": {},
   "source": [
    "Perform exploratory  Data Analysis and determine Training Labels\n",
    "\n",
    "*   create a column for the class\n",
    "*   Standardize the data\n",
    "*   Split into training data and test data\n",
    "\n",
    "\\-Find best Hyperparameter for SVM, Classification Trees and Logistic Regression\n",
    "\n",
    "*   Find the method performs best using test data\n"
   ]
  },
  {
   "cell_type": "markdown",
   "metadata": {},
   "source": [
    "## Import Libraries and Define Auxiliary Functions\n"
   ]
  },
  {
   "cell_type": "code",
   "execution_count": null,
   "metadata": {},
   "outputs": [],
   "source": [
    "# Install the required packages using pip\n",
    "!pip install numpy\n",
    "!pip install pandas\n",
    "!pip install seaborn\n"
   ]
  },
  {
   "cell_type": "markdown",
   "metadata": {},
   "source": [
    "We will import the following libraries for the lab\n"
   ]
  },
  {
   "cell_type": "code",
   "execution_count": 3,
   "metadata": {},
   "outputs": [],
   "source": [
    "# Pandas is a software library written for the Python programming language for data manipulation and analysis.\n",
    "import pandas as pd\n",
    "# NumPy is a library for the Python programming language, adding support for large, multi-dimensional arrays and matrices, along with a large collection of high-level mathematical functions to operate on these arrays\n",
    "import numpy as np\n",
    "# Matplotlib is a plotting library for python and pyplot gives us a MatLab like plotting framework. We will use this in our plotter function to plot data.\n",
    "import matplotlib.pyplot as plt\n",
    "#Seaborn is a Python data visualization library based on matplotlib. It provides a high-level interface for drawing attractive and informative statistical graphics\n",
    "import seaborn as sns\n",
    "# Preprocessing allows us to standarsize our data\n",
    "from sklearn import preprocessing\n",
    "# Allows us to split our data into training and testing data\n",
    "from sklearn.model_selection import train_test_split\n",
    "# Allows us to test parameters of classification algorithms and find the best one\n",
    "from sklearn.model_selection import GridSearchCV\n",
    "# Logistic Regression classification algorithm\n",
    "from sklearn.linear_model import LogisticRegression\n",
    "# Support Vector Machine classification algorithm\n",
    "from sklearn.svm import SVC\n",
    "# Decision Tree classification algorithm\n",
    "from sklearn.tree import DecisionTreeClassifier\n",
    "# K Nearest Neighbors classification algorithm\n",
    "from sklearn.neighbors import KNeighborsClassifier"
   ]
  },
  {
   "cell_type": "markdown",
   "metadata": {},
   "source": [
    "This function is to plot the confusion matrix.\n"
   ]
  },
  {
   "cell_type": "code",
   "execution_count": 4,
   "metadata": {},
   "outputs": [],
   "source": [
    "def plot_confusion_matrix(y,y_predict):\n",
    "    \"this function plots the confusion matrix\"\n",
    "    from sklearn.metrics import confusion_matrix\n",
    "\n",
    "    cm = confusion_matrix(y, y_predict)\n",
    "    ax= plt.subplot()\n",
    "    sns.heatmap(cm, annot=True, ax = ax); #annot=True to annotate cells\n",
    "    ax.set_xlabel('Predicted labels')\n",
    "    ax.set_ylabel('True labels')\n",
    "    ax.set_title('Confusion Matrix'); \n",
    "    ax.xaxis.set_ticklabels(['did not land', 'land']); ax.yaxis.set_ticklabels(['did not land', 'landed']) \n",
    "    plt.show() "
   ]
  },
  {
   "cell_type": "markdown",
   "metadata": {},
   "source": [
    "## Load the dataframe\n"
   ]
  },
  {
   "cell_type": "markdown",
   "metadata": {},
   "source": [
    "Load the data\n"
   ]
  },
  {
   "cell_type": "code",
   "execution_count": 8,
   "metadata": {},
   "outputs": [
    {
     "name": "stdout",
     "output_type": "stream",
     "text": [
      "   Unnamed: 0  FlightNumber        Date BoosterVersion  PayloadMass Orbit  \\\n",
      "0           0             1  2010-06-04       Falcon 9  6104.959412   LEO   \n",
      "1           1             2  2012-05-22       Falcon 9   525.000000   LEO   \n",
      "2           2             3  2013-03-01       Falcon 9   677.000000   ISS   \n",
      "3           3             4  2013-09-29       Falcon 9   500.000000    PO   \n",
      "4           4             5  2013-12-03       Falcon 9  3170.000000   GTO   \n",
      "\n",
      "     LaunchSite      Outcome  Flights  GridFins  Reused   Legs LandingPad  \\\n",
      "0  CCAFS SLC 40    None None        1     False   False  False        NaN   \n",
      "1  CCAFS SLC 40    None None        1     False   False  False        NaN   \n",
      "2  CCAFS SLC 40    None None        1     False   False  False        NaN   \n",
      "3   VAFB SLC 4E  False Ocean        1     False   False  False        NaN   \n",
      "4  CCAFS SLC 40    None None        1     False   False  False        NaN   \n",
      "\n",
      "   Block  ReusedCount Serial   Longitude   Latitude  Class  \n",
      "0    1.0            0  B0003  -80.577366  28.561857      0  \n",
      "1    1.0            0  B0005  -80.577366  28.561857      0  \n",
      "2    1.0            0  B0007  -80.577366  28.561857      0  \n",
      "3    1.0            0  B1003 -120.610829  34.632093      0  \n",
      "4    1.0            0  B1004  -80.577366  28.561857      0  \n"
     ]
    }
   ],
   "source": [
    "import pandas as pd\n",
    "\n",
    "# Define the path to the file\n",
    "file_path = r'D:\\06_CONTINUOUS LEARNING\\01-DATA SCIENTIST\\IBM Data Science-Coursera\\10_Data Science Capstone Project\\week04\\data.CSV'\n",
    "\n",
    "# Load the CSV file into a DataFrame\n",
    "data = pd.read_csv(file_path)\n",
    "\n",
    "# Display the first few rows of the DataFrame\n",
    "print(data.head())\n"
   ]
  },
  {
   "cell_type": "code",
   "execution_count": 15,
   "metadata": {},
   "outputs": [
    {
     "name": "stdout",
     "output_type": "stream",
     "text": [
      "    Unnamed: 0  FlightNumber   PayloadMass  Flights  Block  ReusedCount  \\\n",
      "0            0           1.0   6104.959412      1.0    1.0          0.0   \n",
      "1            1           2.0    525.000000      1.0    1.0          0.0   \n",
      "2            2           3.0    677.000000      1.0    1.0          0.0   \n",
      "3            3           4.0    500.000000      1.0    1.0          0.0   \n",
      "4            4           5.0   3170.000000      1.0    1.0          0.0   \n",
      "..         ...           ...           ...      ...    ...          ...   \n",
      "85          85          86.0  15400.000000      2.0    5.0          2.0   \n",
      "86          86          87.0  15400.000000      3.0    5.0          2.0   \n",
      "87          87          88.0  15400.000000      6.0    5.0          5.0   \n",
      "88          88          89.0  15400.000000      3.0    5.0          2.0   \n",
      "89          89          90.0   3681.000000      1.0    5.0          0.0   \n",
      "\n",
      "    Orbit_ES-L1  Orbit_GEO  Orbit_GTO  Orbit_HEO  ...  Serial_B1058  \\\n",
      "0           0.0        0.0        0.0        0.0  ...           0.0   \n",
      "1           0.0        0.0        0.0        0.0  ...           0.0   \n",
      "2           0.0        0.0        0.0        0.0  ...           0.0   \n",
      "3           0.0        0.0        0.0        0.0  ...           0.0   \n",
      "4           0.0        0.0        1.0        0.0  ...           0.0   \n",
      "..          ...        ...        ...        ...  ...           ...   \n",
      "85          0.0        0.0        0.0        0.0  ...           0.0   \n",
      "86          0.0        0.0        0.0        0.0  ...           1.0   \n",
      "87          0.0        0.0        0.0        0.0  ...           0.0   \n",
      "88          0.0        0.0        0.0        0.0  ...           0.0   \n",
      "89          0.0        0.0        0.0        0.0  ...           0.0   \n",
      "\n",
      "    Serial_B1059  Serial_B1060  Serial_B1062  GridFins_False  GridFins_True  \\\n",
      "0            0.0           0.0           0.0             1.0            0.0   \n",
      "1            0.0           0.0           0.0             1.0            0.0   \n",
      "2            0.0           0.0           0.0             1.0            0.0   \n",
      "3            0.0           0.0           0.0             1.0            0.0   \n",
      "4            0.0           0.0           0.0             1.0            0.0   \n",
      "..           ...           ...           ...             ...            ...   \n",
      "85           0.0           1.0           0.0             0.0            1.0   \n",
      "86           0.0           0.0           0.0             0.0            1.0   \n",
      "87           0.0           0.0           0.0             0.0            1.0   \n",
      "88           0.0           1.0           0.0             0.0            1.0   \n",
      "89           0.0           0.0           1.0             0.0            1.0   \n",
      "\n",
      "    Reused_False  Reused_True  Legs_False  Legs_True  \n",
      "0            1.0          0.0         1.0        0.0  \n",
      "1            1.0          0.0         1.0        0.0  \n",
      "2            1.0          0.0         1.0        0.0  \n",
      "3            1.0          0.0         1.0        0.0  \n",
      "4            1.0          0.0         1.0        0.0  \n",
      "..           ...          ...         ...        ...  \n",
      "85           0.0          1.0         0.0        1.0  \n",
      "86           0.0          1.0         0.0        1.0  \n",
      "87           0.0          1.0         0.0        1.0  \n",
      "88           0.0          1.0         0.0        1.0  \n",
      "89           1.0          0.0         0.0        1.0  \n",
      "\n",
      "[90 rows x 84 columns]\n"
     ]
    }
   ],
   "source": [
    "import pandas as pd\n",
    "\n",
    "# Define the path to the file\n",
    "file_path = r'D:\\06_CONTINUOUS LEARNING\\01-DATA SCIENTIST\\IBM Data Science-Coursera\\10_Data Science Capstone Project\\week04\\X.CSV'\n",
    "\n",
    "# Load the CSV file into a DataFrame\n",
    "X= pd.read_csv(file_path)\n",
    "\n",
    "# Display the first few rows of the DataFrame\n",
    "print(X.head(100))"
   ]
  },
  {
   "cell_type": "markdown",
   "metadata": {},
   "source": [
    "## TASK  1\n"
   ]
  },
  {
   "cell_type": "markdown",
   "metadata": {},
   "source": [
    "Create a NumPy array from the column <code>Class</code> in <code>data</code>, by applying the method <code>to_numpy()</code>  then\n",
    "assign it  to the variable <code>Y</code>,make sure the output is a  Pandas series (only one bracket df\\['name of  column']).\n"
   ]
  },
  {
   "cell_type": "code",
   "execution_count": 10,
   "metadata": {},
   "outputs": [
    {
     "name": "stdout",
     "output_type": "stream",
     "text": [
      "[0 0 0 0 0]\n"
     ]
    }
   ],
   "source": [
    "import numpy as np\n",
    "\n",
    "# Extracting the 'Class' column as a Pandas Series\n",
    "class_series = data['Class']\n",
    "\n",
    "# Converting the Series to a NumPy array\n",
    "Y = class_series.to_numpy()\n",
    "\n",
    "# Display the first few elements of the array to verify\n",
    "print(Y[:5])\n"
   ]
  },
  {
   "cell_type": "markdown",
   "metadata": {},
   "source": [
    "## TASK  2\n"
   ]
  },
  {
   "cell_type": "markdown",
   "metadata": {},
   "source": [
    "Standardize the data in <code>X</code> then reassign it to the variable  <code>X</code> using the transform provided below.\n"
   ]
  },
  {
   "cell_type": "code",
   "execution_count": 16,
   "metadata": {},
   "outputs": [
    {
     "name": "stdout",
     "output_type": "stream",
     "text": [
      "   Unnamed: 0  FlightNumber   PayloadMass   Flights     Block  ReusedCount  \\\n",
      "0   -1.712912     -1.712912 -1.948145e-16 -0.653913 -1.575895     -0.97344   \n",
      "1   -1.674419     -1.674419 -1.195232e+00 -0.653913 -1.575895     -0.97344   \n",
      "2   -1.635927     -1.635927 -1.162673e+00 -0.653913 -1.575895     -0.97344   \n",
      "3   -1.597434     -1.597434 -1.200587e+00 -0.653913 -1.575895     -0.97344   \n",
      "4   -1.558942     -1.558942 -6.286706e-01 -0.653913 -1.575895     -0.97344   \n",
      "\n",
      "   Orbit_ES-L1  Orbit_GEO  Orbit_GTO  Orbit_HEO  ...  Serial_B1058  \\\n",
      "0       -0.106     -0.106  -0.654654     -0.106  ...     -0.185695   \n",
      "1       -0.106     -0.106  -0.654654     -0.106  ...     -0.185695   \n",
      "2       -0.106     -0.106  -0.654654     -0.106  ...     -0.185695   \n",
      "3       -0.106     -0.106  -0.654654     -0.106  ...     -0.185695   \n",
      "4       -0.106     -0.106   1.527525     -0.106  ...     -0.185695   \n",
      "\n",
      "   Serial_B1059  Serial_B1060  Serial_B1062  GridFins_False  GridFins_True  \\\n",
      "0     -0.215666     -0.185695        -0.106        1.870829      -1.870829   \n",
      "1     -0.215666     -0.185695        -0.106        1.870829      -1.870829   \n",
      "2     -0.215666     -0.185695        -0.106        1.870829      -1.870829   \n",
      "3     -0.215666     -0.185695        -0.106        1.870829      -1.870829   \n",
      "4     -0.215666     -0.185695        -0.106        1.870829      -1.870829   \n",
      "\n",
      "   Reused_False  Reused_True  Legs_False  Legs_True  \n",
      "0      0.835532    -0.835532    1.933091  -1.933091  \n",
      "1      0.835532    -0.835532    1.933091  -1.933091  \n",
      "2      0.835532    -0.835532    1.933091  -1.933091  \n",
      "3      0.835532    -0.835532    1.933091  -1.933091  \n",
      "4      0.835532    -0.835532    1.933091  -1.933091  \n",
      "\n",
      "[5 rows x 84 columns]\n"
     ]
    }
   ],
   "source": [
    "from sklearn import preprocessing\n",
    "import pandas as pd\n",
    "\n",
    "# Ensure X is a DataFrame, or reload/recreate it as a DataFrame\n",
    "# For example, if you have code that originally created X, make sure it runs before this point.\n",
    "\n",
    "# Create a StandardScaler object\n",
    "scaler = preprocessing.StandardScaler()\n",
    "\n",
    "# Save the original column names from the DataFrame X\n",
    "column_names = X.columns\n",
    "\n",
    "# Fit and transform the data in DataFrame X\n",
    "X_scaled = scaler.fit_transform(X)\n",
    "\n",
    "# Convert the NumPy array back to a DataFrame using the saved column names\n",
    "X = pd.DataFrame(X_scaled, columns=column_names)\n",
    "\n",
    "# Display the first few rows of the standardized DataFrame\n",
    "print(X.head())\n"
   ]
  },
  {
   "cell_type": "markdown",
   "metadata": {},
   "source": [
    "We split the data into training and testing data using the  function  <code>train_test_split</code>.   The training data is divided into validation data, a second set used for training  data; then the models are trained and hyperparameters are selected using the function <code>GridSearchCV</code>.\n"
   ]
  },
  {
   "cell_type": "markdown",
   "metadata": {},
   "source": [
    "## TASK  3\n"
   ]
  },
  {
   "cell_type": "markdown",
   "metadata": {},
   "source": [
    "Use the function train_test_split to split the data X and Y into training and test data. Set the parameter test_size to  0.2 and random_state to 2. The training data and test data should be assigned to the following labels.\n"
   ]
  },
  {
   "cell_type": "markdown",
   "metadata": {},
   "source": [
    "<code>X_train, X_test, Y_train, Y_test</code>\n"
   ]
  },
  {
   "cell_type": "code",
   "execution_count": 17,
   "metadata": {},
   "outputs": [
    {
     "name": "stdout",
     "output_type": "stream",
     "text": [
      "Training data shape (X_train): (72, 84)\n",
      "Test data shape (X_test): (18, 84)\n",
      "Training labels shape (Y_train): (72,)\n",
      "Test labels shape (Y_test): (18,)\n"
     ]
    }
   ],
   "source": [
    "from sklearn.model_selection import train_test_split\n",
    "\n",
    "# Split the data into training and testing sets\n",
    "X_train, X_test, Y_train, Y_test = train_test_split(X, Y, test_size=0.2, random_state=2)\n",
    "\n",
    "# Optionally, display the shapes of the outputs to confirm the split\n",
    "print(\"Training data shape (X_train):\", X_train.shape)\n",
    "print(\"Test data shape (X_test):\", X_test.shape)\n",
    "print(\"Training labels shape (Y_train):\", Y_train.shape)\n",
    "print(\"Test labels shape (Y_test):\", Y_test.shape)\n"
   ]
  },
  {
   "cell_type": "markdown",
   "metadata": {},
   "source": [
    "we can see we only have 18 test samples.\n"
   ]
  },
  {
   "cell_type": "code",
   "execution_count": 18,
   "metadata": {},
   "outputs": [
    {
     "data": {
      "text/plain": [
       "(18,)"
      ]
     },
     "execution_count": 18,
     "metadata": {},
     "output_type": "execute_result"
    }
   ],
   "source": [
    "Y_test.shape"
   ]
  },
  {
   "cell_type": "markdown",
   "metadata": {},
   "source": [
    "## TASK  4\n"
   ]
  },
  {
   "cell_type": "markdown",
   "metadata": {},
   "source": [
    "Create a logistic regression object  then create a  GridSearchCV object  <code>logreg_cv</code> with cv = 10.  Fit the object to find the best parameters from the dictionary <code>parameters</code>.\n"
   ]
  },
  {
   "cell_type": "markdown",
   "metadata": {},
   "source": [
    "We output the <code>GridSearchCV</code> object for logistic regression. We display the best parameters using the data attribute <code>best_params\\_</code> and the accuracy on the validation data using the data attribute <code>best_score\\_</code>.\n"
   ]
  },
  {
   "cell_type": "code",
   "execution_count": 22,
   "metadata": {},
   "outputs": [
    {
     "name": "stdout",
     "output_type": "stream",
     "text": [
      "Tuned hyperparameters (best parameters):  {'C': 0.01, 'penalty': 'l2', 'solver': 'lbfgs'}\n",
      "Accuracy on validation data:  0.8464285714285713\n"
     ]
    }
   ],
   "source": [
    "from sklearn.model_selection import GridSearchCV\n",
    "from sklearn.linear_model import LogisticRegression\n",
    "\n",
    "# Define the logistic regression model\n",
    "lr = LogisticRegression()\n",
    "\n",
    "# Parameters dictionary for GridSearchCV\n",
    "parameters = {'C': [0.01, 0.1, 1],\n",
    "              'penalty': ['l2'],\n",
    "              'solver': ['lbfgs']}\n",
    "\n",
    "# Create a GridSearchCV object with the logistic regression model\n",
    "logreg_cv = GridSearchCV(lr, parameters, cv=10)\n",
    "\n",
    "# Fit GridSearchCV to the training data\n",
    "logreg_cv.fit(X_train, Y_train)\n",
    "\n",
    "# Display the best hyperparameters and the accuracy of the best model\n",
    "print(\"Tuned hyperparameters (best parameters): \", logreg_cv.best_params_)\n",
    "print(\"Accuracy on validation data: \", logreg_cv.best_score_)\n"
   ]
  },
  {
   "cell_type": "markdown",
   "metadata": {},
   "source": [
    "## TASK  5\n"
   ]
  },
  {
   "cell_type": "markdown",
   "metadata": {},
   "source": [
    "Calculate the accuracy on the test data using the method <code>score</code>:\n"
   ]
  },
  {
   "cell_type": "code",
   "execution_count": 23,
   "metadata": {},
   "outputs": [
    {
     "name": "stdout",
     "output_type": "stream",
     "text": [
      "Accuracy on test data:  0.8333333333333334\n"
     ]
    }
   ],
   "source": [
    "# Calculate the accuracy on the test data\n",
    "test_accuracy = logreg_cv.score(X_test, Y_test)\n",
    "\n",
    "# Print the accuracy on the test data\n",
    "print(\"Accuracy on test data: \", test_accuracy)\n"
   ]
  },
  {
   "cell_type": "markdown",
   "metadata": {},
   "source": [
    "Lets look at the confusion matrix:\n"
   ]
  },
  {
   "cell_type": "code",
   "execution_count": 24,
   "metadata": {},
   "outputs": [
    {
     "data": {
      "image/png": "[encoded data removed]",
      "text/plain": [
       "<Figure size 640x480 with 2 Axes>"
      ]
     },
     "metadata": {},
     "output_type": "display_data"
    }
   ],
   "source": [
    "yhat=logreg_cv.predict(X_test)\n",
    "plot_confusion_matrix(Y_test,yhat)"
   ]
  },
  {
   "cell_type": "markdown",
   "metadata": {},
   "source": [
    "Examining the confusion matrix, we see that logistic regression can distinguish between the different classes.  We see that the major problem is false positives.\n"
   ]
  },
  {
   "cell_type": "markdown",
   "metadata": {},
   "source": [
    "## TASK  6\n"
   ]
  },
  {
   "cell_type": "markdown",
   "metadata": {},
   "source": [
    "Create a support vector machine object then  create a  <code>GridSearchCV</code> object  <code>svm_cv</code> with cv - 10.  Fit the object to find the best parameters from the dictionary <code>parameters</code>.\n"
   ]
  },
  {
   "cell_type": "code",
   "execution_count": 27,
   "metadata": {},
   "outputs": [
    {
     "name": "stdout",
     "output_type": "stream",
     "text": [
      "Tuned hyperparameters (best parameters):  {'C': 0.03162277660168379, 'gamma': 0.001, 'kernel': 'linear'}\n",
      "Accuracy on validation data:  0.8214285714285714\n"
     ]
    }
   ],
   "source": [
    "from sklearn.svm import SVC\n",
    "from sklearn.model_selection import GridSearchCV\n",
    "import numpy as np\n",
    "\n",
    "# Define the support vector machine model\n",
    "svm = SVC()\n",
    "\n",
    "# Parameters dictionary for GridSearchCV\n",
    "parameters = {\n",
    "    'kernel': ('linear', 'rbf', 'poly', 'sigmoid'),\n",
    "    'C': np.logspace(-3, 3, 5),\n",
    "    'gamma': np.logspace(-3, 3, 5)\n",
    "}\n",
    "\n",
    "# Create a GridSearchCV object with the support vector machine model\n",
    "svm_cv = GridSearchCV(svm, parameters, cv=10)\n",
    "\n",
    "# Fit GridSearchCV to the training data\n",
    "svm_cv.fit(X_train, Y_train)\n",
    "\n",
    "# Display the best hyperparameters and the accuracy of the best model\n",
    "print(\"Tuned hyperparameters (best parameters): \", svm_cv.best_params_)\n",
    "print(\"Accuracy on validation data: \", svm_cv.best_score_)\n"
   ]
  },
  {
   "cell_type": "markdown",
   "metadata": {},
   "source": [
    "## TASK  7\n"
   ]
  },
  {
   "cell_type": "markdown",
   "metadata": {},
   "source": [
    "Calculate the accuracy on the test data using the method <code>score</code>:\n"
   ]
  },
  {
   "cell_type": "code",
   "execution_count": 28,
   "metadata": {},
   "outputs": [
    {
     "name": "stdout",
     "output_type": "stream",
     "text": [
      "Accuracy on test data:  0.8333333333333334\n"
     ]
    }
   ],
   "source": [
    "# Calculate the accuracy on the test data\n",
    "test_accuracy = svm_cv.score(X_test, Y_test)\n",
    "\n",
    "# Print the accuracy on the test data\n",
    "print(\"Accuracy on test data: \", test_accuracy)\n"
   ]
  },
  {
   "cell_type": "markdown",
   "metadata": {},
   "source": [
    "We can plot the confusion matrix\n"
   ]
  },
  {
   "cell_type": "code",
   "execution_count": 29,
   "metadata": {},
   "outputs": [
    {
     "data": {
      "image/png": "[encoded data removed]",
      "text/plain": [
       "<Figure size 640x480 with 2 Axes>"
      ]
     },
     "metadata": {},
     "output_type": "display_data"
    }
   ],
   "source": [
    "yhat=svm_cv.predict(X_test)\n",
    "plot_confusion_matrix(Y_test,yhat)"
   ]
  },
  {
   "cell_type": "markdown",
   "metadata": {},
   "source": [
    "## TASK  8\n"
   ]
  },
  {
   "cell_type": "markdown",
   "metadata": {},
   "source": [
    "Create a decision tree classifier object then  create a  <code>GridSearchCV</code> object  <code>tree_cv</code> with cv = 10.  Fit the object to find the best parameters from the dictionary <code>parameters</code>.\n"
   ]
  },
  {
   "cell_type": "code",
   "execution_count": null,
   "metadata": {},
   "outputs": [],
   "source": [
    "parameters = {\n",
    "    'criterion': ['gini'],\n",
    "    'splitter': ['best'],\n",
    "    'max_depth': [2, 4, 6],\n",
    "    'max_features': ['sqrt'],\n",
    "    'min_samples_leaf': [1],\n",
    "    'min_samples_split': [2, 5]\n",
    "}\n"
   ]
  },
  {
   "cell_type": "code",
   "execution_count": 33,
   "metadata": {},
   "outputs": [
    {
     "name": "stdout",
     "output_type": "stream",
     "text": [
      "Fitting 10 folds for each of 6 candidates, totalling 60 fits\n",
      "[CV 1/10] END criterion=gini, max_depth=2, max_features=sqrt, min_samples_leaf=1, min_samples_split=2, splitter=best;, score=0.750 total time=   0.0s\n",
      "[CV 2/10] END criterion=gini, max_depth=2, max_features=sqrt, min_samples_leaf=1, min_samples_split=2, splitter=best;, score=0.625 total time=   0.0s\n",
      "[CV 3/10] END criterion=gini, max_depth=2, max_features=sqrt, min_samples_leaf=1, min_samples_split=2, splitter=best;, score=0.571 total time=   0.0s\n",
      "[CV 4/10] END criterion=gini, max_depth=2, max_features=sqrt, min_samples_leaf=1, min_samples_split=2, splitter=best;, score=1.000 total time=   0.0s\n",
      "[CV 5/10] END criterion=gini, max_depth=2, max_features=sqrt, min_samples_leaf=1, min_samples_split=2, splitter=best;, score=0.714 total time=   0.0s\n",
      "[CV 6/10] END criterion=gini, max_depth=2, max_features=sqrt, min_samples_leaf=1, min_samples_split=2, splitter=best;, score=0.857 total time=   0.0s\n",
      "[CV 7/10] END criterion=gini, max_depth=2, max_features=sqrt, min_samples_leaf=1, min_samples_split=2, splitter=best;, score=0.857 total time=   0.0s\n",
      "[CV 8/10] END criterion=gini, max_depth=2, max_features=sqrt, min_samples_leaf=1, min_samples_split=2, splitter=best;, score=0.857 total time=   0.0s\n",
      "[CV 9/10] END criterion=gini, max_depth=2, max_features=sqrt, min_samples_leaf=1, min_samples_split=2, splitter=best;, score=0.714 total time=   0.0s\n",
      "[CV 10/10] END criterion=gini, max_depth=2, max_features=sqrt, min_samples_leaf=1, min_samples_split=2, splitter=best;, score=0.857 total time=   0.0s\n",
      "[CV 1/10] END criterion=gini, max_depth=2, max_features=sqrt, min_samples_leaf=1, min_samples_split=5, splitter=best;, score=1.000 total time=   0.0s\n",
      "[CV 2/10] END criterion=gini, max_depth=2, max_features=sqrt, min_samples_leaf=1, min_samples_split=5, splitter=best;, score=0.875 total time=   0.0s\n",
      "[CV 3/10] END criterion=gini, max_depth=2, max_features=sqrt, min_samples_leaf=1, min_samples_split=5, splitter=best;, score=0.857 total time=   0.0s\n",
      "[CV 4/10] END criterion=gini, max_depth=2, max_features=sqrt, min_samples_leaf=1, min_samples_split=5, splitter=best;, score=0.571 total time=   0.0s\n",
      "[CV 5/10] END criterion=gini, max_depth=2, max_features=sqrt, min_samples_leaf=1, min_samples_split=5, splitter=best;, score=1.000 total time=   0.0s\n",
      "[CV 6/10] END criterion=gini, max_depth=2, max_features=sqrt, min_samples_leaf=1, min_samples_split=5, splitter=best;, score=0.857 total time=   0.0s\n",
      "[CV 7/10] END criterion=gini, max_depth=2, max_features=sqrt, min_samples_leaf=1, min_samples_split=5, splitter=best;, score=0.857 total time=   0.0s\n",
      "[CV 8/10] END criterion=gini, max_depth=2, max_features=sqrt, min_samples_leaf=1, min_samples_split=5, splitter=best;, score=0.714 total time=   0.0s\n",
      "[CV 9/10] END criterion=gini, max_depth=2, max_features=sqrt, min_samples_leaf=1, min_samples_split=5, splitter=best;, score=0.571 total time=   0.0s\n",
      "[CV 10/10] END criterion=gini, max_depth=2, max_features=sqrt, min_samples_leaf=1, min_samples_split=5, splitter=best;, score=0.857 total time=   0.0s\n",
      "[CV 1/10] END criterion=gini, max_depth=4, max_features=sqrt, min_samples_leaf=1, min_samples_split=2, splitter=best;, score=0.875 total time=   0.0s\n",
      "[CV 2/10] END criterion=gini, max_depth=4, max_features=sqrt, min_samples_leaf=1, min_samples_split=2, splitter=best;, score=0.750 total time=   0.0s\n",
      "[CV 3/10] END criterion=gini, max_depth=4, max_features=sqrt, min_samples_leaf=1, min_samples_split=2, splitter=best;, score=0.571 total time=   0.0s\n",
      "[CV 4/10] END criterion=gini, max_depth=4, max_features=sqrt, min_samples_leaf=1, min_samples_split=2, splitter=best;, score=0.714 total time=   0.0s\n",
      "[CV 5/10] END criterion=gini, max_depth=4, max_features=sqrt, min_samples_leaf=1, min_samples_split=2, splitter=best;, score=1.000 total time=   0.0s\n",
      "[CV 6/10] END criterion=gini, max_depth=4, max_features=sqrt, min_samples_leaf=1, min_samples_split=2, splitter=best;, score=0.714 total time=   0.0s\n",
      "[CV 7/10] END criterion=gini, max_depth=4, max_features=sqrt, min_samples_leaf=1, min_samples_split=2, splitter=best;, score=0.714 total time=   0.0s\n",
      "[CV 8/10] END criterion=gini, max_depth=4, max_features=sqrt, min_samples_leaf=1, min_samples_split=2, splitter=best;, score=0.857 total time=   0.0s\n",
      "[CV 9/10] END criterion=gini, max_depth=4, max_features=sqrt, min_samples_leaf=1, min_samples_split=2, splitter=best;, score=0.714 total time=   0.0s\n",
      "[CV 10/10] END criterion=gini, max_depth=4, max_features=sqrt, min_samples_leaf=1, min_samples_split=2, splitter=best;, score=0.857 total time=   0.0s\n",
      "[CV 1/10] END criterion=gini, max_depth=4, max_features=sqrt, min_samples_leaf=1, min_samples_split=5, splitter=best;, score=1.000 total time=   0.0s\n",
      "[CV 2/10] END criterion=gini, max_depth=4, max_features=sqrt, min_samples_leaf=1, min_samples_split=5, splitter=best;, score=0.750 total time=   0.0s\n",
      "[CV 3/10] END criterion=gini, max_depth=4, max_features=sqrt, min_samples_leaf=1, min_samples_split=5, splitter=best;, score=0.714 total time=   0.0s\n",
      "[CV 4/10] END criterion=gini, max_depth=4, max_features=sqrt, min_samples_leaf=1, min_samples_split=5, splitter=best;, score=1.000 total time=   0.0s\n",
      "[CV 5/10] END criterion=gini, max_depth=4, max_features=sqrt, min_samples_leaf=1, min_samples_split=5, splitter=best;, score=0.714 total time=   0.0s\n",
      "[CV 6/10] END criterion=gini, max_depth=4, max_features=sqrt, min_samples_leaf=1, min_samples_split=5, splitter=best;, score=0.714 total time=   0.0s\n",
      "[CV 7/10] END criterion=gini, max_depth=4, max_features=sqrt, min_samples_leaf=1, min_samples_split=5, splitter=best;, score=0.714 total time=   0.0s\n",
      "[CV 8/10] END criterion=gini, max_depth=4, max_features=sqrt, min_samples_leaf=1, min_samples_split=5, splitter=best;, score=0.857 total time=   0.0s\n",
      "[CV 9/10] END criterion=gini, max_depth=4, max_features=sqrt, min_samples_leaf=1, min_samples_split=5, splitter=best;, score=0.714 total time=   0.0s\n",
      "[CV 10/10] END criterion=gini, max_depth=4, max_features=sqrt, min_samples_leaf=1, min_samples_split=5, splitter=best;, score=0.857 total time=   0.0s\n",
      "[CV 1/10] END criterion=gini, max_depth=6, max_features=sqrt, min_samples_leaf=1, min_samples_split=2, splitter=best;, score=1.000 total time=   0.0s\n",
      "[CV 2/10] END criterion=gini, max_depth=6, max_features=sqrt, min_samples_leaf=1, min_samples_split=2, splitter=best;, score=0.750 total time=   0.0s\n",
      "[CV 3/10] END criterion=gini, max_depth=6, max_features=sqrt, min_samples_leaf=1, min_samples_split=2, splitter=best;, score=0.571 total time=   0.0s\n",
      "[CV 4/10] END criterion=gini, max_depth=6, max_features=sqrt, min_samples_leaf=1, min_samples_split=2, splitter=best;, score=0.857 total time=   0.0s\n",
      "[CV 5/10] END criterion=gini, max_depth=6, max_features=sqrt, min_samples_leaf=1, min_samples_split=2, splitter=best;, score=1.000 total time=   0.0s\n",
      "[CV 6/10] END criterion=gini, max_depth=6, max_features=sqrt, min_samples_leaf=1, min_samples_split=2, splitter=best;, score=0.714 total time=   0.0s\n",
      "[CV 7/10] END criterion=gini, max_depth=6, max_features=sqrt, min_samples_leaf=1, min_samples_split=2, splitter=best;, score=0.857 total time=   0.0s\n",
      "[CV 8/10] END criterion=gini, max_depth=6, max_features=sqrt, min_samples_leaf=1, min_samples_split=2, splitter=best;, score=0.857 total time=   0.0s\n",
      "[CV 9/10] END criterion=gini, max_depth=6, max_features=sqrt, min_samples_leaf=1, min_samples_split=2, splitter=best;, score=1.000 total time=   0.0s\n",
      "[CV 10/10] END criterion=gini, max_depth=6, max_features=sqrt, min_samples_leaf=1, min_samples_split=2, splitter=best;, score=0.857 total time=   0.0s\n",
      "[CV 1/10] END criterion=gini, max_depth=6, max_features=sqrt, min_samples_leaf=1, min_samples_split=5, splitter=best;, score=0.875 total time=   0.0s\n",
      "[CV 2/10] END criterion=gini, max_depth=6, max_features=sqrt, min_samples_leaf=1, min_samples_split=5, splitter=best;, score=0.625 total time=   0.0s\n",
      "[CV 3/10] END criterion=gini, max_depth=6, max_features=sqrt, min_samples_leaf=1, min_samples_split=5, splitter=best;, score=0.857 total time=   0.0s\n",
      "[CV 4/10] END criterion=gini, max_depth=6, max_features=sqrt, min_samples_leaf=1, min_samples_split=5, splitter=best;, score=0.857 total time=   0.0s\n",
      "[CV 5/10] END criterion=gini, max_depth=6, max_features=sqrt, min_samples_leaf=1, min_samples_split=5, splitter=best;, score=0.857 total time=   0.0s\n",
      "[CV 6/10] END criterion=gini, max_depth=6, max_features=sqrt, min_samples_leaf=1, min_samples_split=5, splitter=best;, score=0.857 total time=   0.0s\n",
      "[CV 7/10] END criterion=gini, max_depth=6, max_features=sqrt, min_samples_leaf=1, min_samples_split=5, splitter=best;, score=0.857 total time=   0.0s\n",
      "[CV 8/10] END criterion=gini, max_depth=6, max_features=sqrt, min_samples_leaf=1, min_samples_split=5, splitter=best;, score=0.857 total time=   0.0s\n",
      "[CV 9/10] END criterion=gini, max_depth=6, max_features=sqrt, min_samples_leaf=1, min_samples_split=5, splitter=best;, score=0.857 total time=   0.0s\n",
      "[CV 10/10] END criterion=gini, max_depth=6, max_features=sqrt, min_samples_leaf=1, min_samples_split=5, splitter=best;, score=0.714 total time=   0.0s\n"
     ]
    },
    {
     "data": {
      "text/html": [
       "<style>#sk-container-id-1 {color: black;background-color: white;}#sk-container-id-1 pre{padding: 0;}#sk-container-id-1 div.sk-toggleable {background-color: white;}#sk-container-id-1 label.sk-toggleable__label {cursor: pointer;display: block;width: 100%;margin-bottom: 0;padding: 0.3em;box-sizing: border-box;text-align: center;}#sk-container-id-1 label.sk-toggleable__label-arrow:before {content: \"▸\";float: left;margin-right: 0.25em;color: #696969;}#sk-container-id-1 label.sk-toggleable__label-arrow:hover:before {color: black;}#sk-container-id-1 div.sk-estimator:hover label.sk-toggleable__label-arrow:before {color: black;}#sk-container-id-1 div.sk-toggleable__content {max-height: 0;max-width: 0;overflow: hidden;text-align: left;background-color: #f0f8ff;}#sk-container-id-1 div.sk-toggleable__content pre {margin: 0.2em;color: black;border-radius: 0.25em;background-color: #f0f8ff;}#sk-container-id-1 input.sk-toggleable__control:checked~div.sk-toggleable__content {max-height: 200px;max-width: 100%;overflow: auto;}#sk-container-id-1 input.sk-toggleable__control:checked~label.sk-toggleable__label-arrow:before {content: \"▾\";}#sk-container-id-1 div.sk-estimator input.sk-toggleable__control:checked~label.sk-toggleable__label {background-color: #d4ebff;}#sk-container-id-1 div.sk-label input.sk-toggleable__control:checked~label.sk-toggleable__label {background-color: #d4ebff;}#sk-container-id-1 input.sk-hidden--visually {border: 0;clip: rect(1px 1px 1px 1px);clip: rect(1px, 1px, 1px, 1px);height: 1px;margin: -1px;overflow: hidden;padding: 0;position: absolute;width: 1px;}#sk-container-id-1 div.sk-estimator {font-family: monospace;background-color: #f0f8ff;border: 1px dotted black;border-radius: 0.25em;box-sizing: border-box;margin-bottom: 0.5em;}#sk-container-id-1 div.sk-estimator:hover {background-color: #d4ebff;}#sk-container-id-1 div.sk-parallel-item::after {content: \"\";width: 100%;border-bottom: 1px solid gray;flex-grow: 1;}#sk-container-id-1 div.sk-label:hover label.sk-toggleable__label {background-color: #d4ebff;}#sk-container-id-1 div.sk-serial::before {content: \"\";position: absolute;border-left: 1px solid gray;box-sizing: border-box;top: 0;bottom: 0;left: 50%;z-index: 0;}#sk-container-id-1 div.sk-serial {display: flex;flex-direction: column;align-items: center;background-color: white;padding-right: 0.2em;padding-left: 0.2em;position: relative;}#sk-container-id-1 div.sk-item {position: relative;z-index: 1;}#sk-container-id-1 div.sk-parallel {display: flex;align-items: stretch;justify-content: center;background-color: white;position: relative;}#sk-container-id-1 div.sk-item::before, #sk-container-id-1 div.sk-parallel-item::before {content: \"\";position: absolute;border-left: 1px solid gray;box-sizing: border-box;top: 0;bottom: 0;left: 50%;z-index: -1;}#sk-container-id-1 div.sk-parallel-item {display: flex;flex-direction: column;z-index: 1;position: relative;background-color: white;}#sk-container-id-1 div.sk-parallel-item:first-child::after {align-self: flex-end;width: 50%;}#sk-container-id-1 div.sk-parallel-item:last-child::after {align-self: flex-start;width: 50%;}#sk-container-id-1 div.sk-parallel-item:only-child::after {width: 0;}#sk-container-id-1 div.sk-dashed-wrapped {border: 1px dashed gray;margin: 0 0.4em 0.5em 0.4em;box-sizing: border-box;padding-bottom: 0.4em;background-color: white;}#sk-container-id-1 div.sk-label label {font-family: monospace;font-weight: bold;display: inline-block;line-height: 1.2em;}#sk-container-id-1 div.sk-label-container {text-align: center;}#sk-container-id-1 div.sk-container {/* jupyter's `normalize.less` sets `[hidden] { display: none; }` but bootstrap.min.css set `[hidden] { display: none !important; }` so we also need the `!important` here to be able to override the default hidden behavior on the sphinx rendered scikit-learn.org. See: https://github.com/scikit-learn/scikit-learn/issues/21755 */display: inline-block !important;position: relative;}#sk-container-id-1 div.sk-text-repr-fallback {display: none;}</style><div id=\"sk-container-id-1\" class=\"sk-top-container\"><div class=\"sk-text-repr-fallback\"><pre>GridSearchCV(cv=10, estimator=DecisionTreeClassifier(),\n",
       "             param_grid={&#x27;criterion&#x27;: [&#x27;gini&#x27;], &#x27;max_depth&#x27;: [2, 4, 6],\n",
       "                         &#x27;max_features&#x27;: [&#x27;sqrt&#x27;], &#x27;min_samples_leaf&#x27;: [1],\n",
       "                         &#x27;min_samples_split&#x27;: [2, 5], &#x27;splitter&#x27;: [&#x27;best&#x27;]},\n",
       "             verbose=3)</pre><b>In a Jupyter environment, please rerun this cell to show the HTML representation or trust the notebook. <br />On GitHub, the HTML representation is unable to render, please try loading this page with nbviewer.org.</b></div><div class=\"sk-container\" hidden><div class=\"sk-item sk-dashed-wrapped\"><div class=\"sk-label-container\"><div class=\"sk-label sk-toggleable\"><input class=\"sk-toggleable__control sk-hidden--visually\" id=\"sk-estimator-id-1\" type=\"checkbox\" ><label for=\"sk-estimator-id-1\" class=\"sk-toggleable__label sk-toggleable__label-arrow\">GridSearchCV</label><div class=\"sk-toggleable__content\"><pre>GridSearchCV(cv=10, estimator=DecisionTreeClassifier(),\n",
       "             param_grid={&#x27;criterion&#x27;: [&#x27;gini&#x27;], &#x27;max_depth&#x27;: [2, 4, 6],\n",
       "                         &#x27;max_features&#x27;: [&#x27;sqrt&#x27;], &#x27;min_samples_leaf&#x27;: [1],\n",
       "                         &#x27;min_samples_split&#x27;: [2, 5], &#x27;splitter&#x27;: [&#x27;best&#x27;]},\n",
       "             verbose=3)</pre></div></div></div><div class=\"sk-parallel\"><div class=\"sk-parallel-item\"><div class=\"sk-item\"><div class=\"sk-label-container\"><div class=\"sk-label sk-toggleable\"><input class=\"sk-toggleable__control sk-hidden--visually\" id=\"sk-estimator-id-2\" type=\"checkbox\" ><label for=\"sk-estimator-id-2\" class=\"sk-toggleable__label sk-toggleable__label-arrow\">estimator: DecisionTreeClassifier</label><div class=\"sk-toggleable__content\"><pre>DecisionTreeClassifier()</pre></div></div></div><div class=\"sk-serial\"><div class=\"sk-item\"><div class=\"sk-estimator sk-toggleable\"><input class=\"sk-toggleable__control sk-hidden--visually\" id=\"sk-estimator-id-3\" type=\"checkbox\" ><label for=\"sk-estimator-id-3\" class=\"sk-toggleable__label sk-toggleable__label-arrow\">DecisionTreeClassifier</label><div class=\"sk-toggleable__content\"><pre>DecisionTreeClassifier()</pre></div></div></div></div></div></div></div></div></div></div>"
      ],
      "text/plain": [
       "GridSearchCV(cv=10, estimator=DecisionTreeClassifier(),\n",
       "             param_grid={'criterion': ['gini'], 'max_depth': [2, 4, 6],\n",
       "                         'max_features': ['sqrt'], 'min_samples_leaf': [1],\n",
       "                         'min_samples_split': [2, 5], 'splitter': ['best']},\n",
       "             verbose=3)"
      ]
     },
     "execution_count": 33,
     "metadata": {},
     "output_type": "execute_result"
    }
   ],
   "source": [
    "tree_cv = GridSearchCV(tree, parameters, cv=10, verbose=3)  # Increase verbosity level\n",
    "tree_cv.fit(X_train, Y_train)\n"
   ]
  },
  {
   "cell_type": "code",
   "execution_count": 44,
   "metadata": {},
   "outputs": [
    {
     "name": "stdout",
     "output_type": "stream",
     "text": [
      "Starting Grid Search...\n",
      "Fitting 10 folds for each of 6 candidates, totalling 60 fits\n",
      "[CV 1/10] END criterion=gini, max_depth=2, max_features=sqrt, min_samples_leaf=1, min_samples_split=2, splitter=best;, score=1.000 total time=   0.0s\n",
      "[CV 2/10] END criterion=gini, max_depth=2, max_features=sqrt, min_samples_leaf=1, min_samples_split=2, splitter=best;, score=0.750 total time=   0.0s\n",
      "[CV 3/10] END criterion=gini, max_depth=2, max_features=sqrt, min_samples_leaf=1, min_samples_split=2, splitter=best;, score=0.857 total time=   0.0s\n",
      "[CV 4/10] END criterion=gini, max_depth=2, max_features=sqrt, min_samples_leaf=1, min_samples_split=2, splitter=best;, score=0.714 total time=   0.0s\n",
      "[CV 5/10] END criterion=gini, max_depth=2, max_features=sqrt, min_samples_leaf=1, min_samples_split=2, splitter=best;, score=0.714 total time=   0.0s\n",
      "[CV 6/10] END criterion=gini, max_depth=2, max_features=sqrt, min_samples_leaf=1, min_samples_split=2, splitter=best;, score=0.857 total time=   0.0s\n",
      "[CV 7/10] END criterion=gini, max_depth=2, max_features=sqrt, min_samples_leaf=1, min_samples_split=2, splitter=best;, score=0.571 total time=   0.0s\n",
      "[CV 8/10] END criterion=gini, max_depth=2, max_features=sqrt, min_samples_leaf=1, min_samples_split=2, splitter=best;, score=1.000 total time=   0.0s\n",
      "[CV 9/10] END criterion=gini, max_depth=2, max_features=sqrt, min_samples_leaf=1, min_samples_split=2, splitter=best;, score=0.714 total time=   0.0s\n",
      "[CV 10/10] END criterion=gini, max_depth=2, max_features=sqrt, min_samples_leaf=1, min_samples_split=2, splitter=best;, score=0.857 total time=   0.0s\n",
      "[CV 1/10] END criterion=gini, max_depth=2, max_features=sqrt, min_samples_leaf=1, min_samples_split=5, splitter=best;, score=0.750 total time=   0.0s\n",
      "[CV 2/10] END criterion=gini, max_depth=2, max_features=sqrt, min_samples_leaf=1, min_samples_split=5, splitter=best;, score=0.750 total time=   0.0s\n",
      "[CV 3/10] END criterion=gini, max_depth=2, max_features=sqrt, min_samples_leaf=1, min_samples_split=5, splitter=best;, score=0.857 total time=   0.0s\n",
      "[CV 4/10] END criterion=gini, max_depth=2, max_features=sqrt, min_samples_leaf=1, min_samples_split=5, splitter=best;, score=0.714 total time=   0.0s\n",
      "[CV 5/10] END criterion=gini, max_depth=2, max_features=sqrt, min_samples_leaf=1, min_samples_split=5, splitter=best;, score=1.000 total time=   0.0s\n",
      "[CV 6/10] END criterion=gini, max_depth=2, max_features=sqrt, min_samples_leaf=1, min_samples_split=5, splitter=best;, score=0.714 total time=   0.0s\n",
      "[CV 7/10] END criterion=gini, max_depth=2, max_features=sqrt, min_samples_leaf=1, min_samples_split=5, splitter=best;, score=0.714 total time=   0.0s\n",
      "[CV 8/10] END criterion=gini, max_depth=2, max_features=sqrt, min_samples_leaf=1, min_samples_split=5, splitter=best;, score=0.857 total time=   0.0s\n",
      "[CV 9/10] END criterion=gini, max_depth=2, max_features=sqrt, min_samples_leaf=1, min_samples_split=5, splitter=best;, score=0.714 total time=   0.0s\n",
      "[CV 10/10] END criterion=gini, max_depth=2, max_features=sqrt, min_samples_leaf=1, min_samples_split=5, splitter=best;, score=0.857 total time=   0.0s\n",
      "[CV 1/10] END criterion=gini, max_depth=4, max_features=sqrt, min_samples_leaf=1, min_samples_split=2, splitter=best;, score=1.000 total time=   0.0s\n",
      "[CV 2/10] END criterion=gini, max_depth=4, max_features=sqrt, min_samples_leaf=1, min_samples_split=2, splitter=best;, score=0.875 total time=   0.0s\n",
      "[CV 3/10] END criterion=gini, max_depth=4, max_features=sqrt, min_samples_leaf=1, min_samples_split=2, splitter=best;, score=0.857 total time=   0.0s\n",
      "[CV 4/10] END criterion=gini, max_depth=4, max_features=sqrt, min_samples_leaf=1, min_samples_split=2, splitter=best;, score=0.714 total time=   0.0s\n",
      "[CV 5/10] END criterion=gini, max_depth=4, max_features=sqrt, min_samples_leaf=1, min_samples_split=2, splitter=best;, score=1.000 total time=   0.0s\n",
      "[CV 6/10] END criterion=gini, max_depth=4, max_features=sqrt, min_samples_leaf=1, min_samples_split=2, splitter=best;, score=0.571 total time=   0.0s\n",
      "[CV 7/10] END criterion=gini, max_depth=4, max_features=sqrt, min_samples_leaf=1, min_samples_split=2, splitter=best;, score=0.857 total time=   0.0s\n",
      "[CV 8/10] END criterion=gini, max_depth=4, max_features=sqrt, min_samples_leaf=1, min_samples_split=2, splitter=best;, score=0.714 total time=   0.0s\n",
      "[CV 9/10] END criterion=gini, max_depth=4, max_features=sqrt, min_samples_leaf=1, min_samples_split=2, splitter=best;, score=0.857 total time=   0.0s\n",
      "[CV 10/10] END criterion=gini, max_depth=4, max_features=sqrt, min_samples_leaf=1, min_samples_split=2, splitter=best;, score=0.714 total time=   0.0s\n",
      "[CV 1/10] END criterion=gini, max_depth=4, max_features=sqrt, min_samples_leaf=1, min_samples_split=5, splitter=best;, score=1.000 total time=   0.0s\n",
      "[CV 2/10] END criterion=gini, max_depth=4, max_features=sqrt, min_samples_leaf=1, min_samples_split=5, splitter=best;, score=0.750 total time=   0.0s\n",
      "[CV 3/10] END criterion=gini, max_depth=4, max_features=sqrt, min_samples_leaf=1, min_samples_split=5, splitter=best;, score=0.857 total time=   0.0s\n",
      "[CV 4/10] END criterion=gini, max_depth=4, max_features=sqrt, min_samples_leaf=1, min_samples_split=5, splitter=best;, score=0.714 total time=   0.0s\n",
      "[CV 5/10] END criterion=gini, max_depth=4, max_features=sqrt, min_samples_leaf=1, min_samples_split=5, splitter=best;, score=1.000 total time=   0.0s\n",
      "[CV 6/10] END criterion=gini, max_depth=4, max_features=sqrt, min_samples_leaf=1, min_samples_split=5, splitter=best;, score=0.714 total time=   0.0s\n",
      "[CV 7/10] END criterion=gini, max_depth=4, max_features=sqrt, min_samples_leaf=1, min_samples_split=5, splitter=best;, score=0.714 total time=   0.0s\n",
      "[CV 8/10] END criterion=gini, max_depth=4, max_features=sqrt, min_samples_leaf=1, min_samples_split=5, splitter=best;, score=0.857 total time=   0.0s\n",
      "[CV 9/10] END criterion=gini, max_depth=4, max_features=sqrt, min_samples_leaf=1, min_samples_split=5, splitter=best;, score=0.857 total time=   0.0s\n",
      "[CV 10/10] END criterion=gini, max_depth=4, max_features=sqrt, min_samples_leaf=1, min_samples_split=5, splitter=best;, score=0.857 total time=   0.0s\n",
      "[CV 1/10] END criterion=gini, max_depth=6, max_features=sqrt, min_samples_leaf=1, min_samples_split=2, splitter=best;, score=0.875 total time=   0.0s\n",
      "[CV 2/10] END criterion=gini, max_depth=6, max_features=sqrt, min_samples_leaf=1, min_samples_split=2, splitter=best;, score=0.625 total time=   0.0s\n",
      "[CV 3/10] END criterion=gini, max_depth=6, max_features=sqrt, min_samples_leaf=1, min_samples_split=2, splitter=best;, score=0.857 total time=   0.0s\n",
      "[CV 4/10] END criterion=gini, max_depth=6, max_features=sqrt, min_samples_leaf=1, min_samples_split=2, splitter=best;, score=0.714 total time=   0.0s\n",
      "[CV 5/10] END criterion=gini, max_depth=6, max_features=sqrt, min_samples_leaf=1, min_samples_split=2, splitter=best;, score=1.000 total time=   0.0s\n",
      "[CV 6/10] END criterion=gini, max_depth=6, max_features=sqrt, min_samples_leaf=1, min_samples_split=2, splitter=best;, score=0.857 total time=   0.0s\n",
      "[CV 7/10] END criterion=gini, max_depth=6, max_features=sqrt, min_samples_leaf=1, min_samples_split=2, splitter=best;, score=1.000 total time=   0.0s\n",
      "[CV 8/10] END criterion=gini, max_depth=6, max_features=sqrt, min_samples_leaf=1, min_samples_split=2, splitter=best;, score=0.857 total time=   0.0s\n",
      "[CV 9/10] END criterion=gini, max_depth=6, max_features=sqrt, min_samples_leaf=1, min_samples_split=2, splitter=best;, score=0.571 total time=   0.0s\n",
      "[CV 10/10] END criterion=gini, max_depth=6, max_features=sqrt, min_samples_leaf=1, min_samples_split=2, splitter=best;, score=0.857 total time=   0.0s\n",
      "[CV 1/10] END criterion=gini, max_depth=6, max_features=sqrt, min_samples_leaf=1, min_samples_split=5, splitter=best;, score=1.000 total time=   0.0s\n",
      "[CV 2/10] END criterion=gini, max_depth=6, max_features=sqrt, min_samples_leaf=1, min_samples_split=5, splitter=best;, score=0.625 total time=   0.0s\n",
      "[CV 3/10] END criterion=gini, max_depth=6, max_features=sqrt, min_samples_leaf=1, min_samples_split=5, splitter=best;, score=0.714 total time=   0.0s\n",
      "[CV 4/10] END criterion=gini, max_depth=6, max_features=sqrt, min_samples_leaf=1, min_samples_split=5, splitter=best;, score=0.714 total time=   0.0s\n",
      "[CV 5/10] END criterion=gini, max_depth=6, max_features=sqrt, min_samples_leaf=1, min_samples_split=5, splitter=best;, score=0.857 total time=   0.0s\n",
      "[CV 6/10] END criterion=gini, max_depth=6, max_features=sqrt, min_samples_leaf=1, min_samples_split=5, splitter=best;, score=0.571 total time=   0.0s\n",
      "[CV 7/10] END criterion=gini, max_depth=6, max_features=sqrt, min_samples_leaf=1, min_samples_split=5, splitter=best;, score=1.000 total time=   0.0s\n",
      "[CV 8/10] END criterion=gini, max_depth=6, max_features=sqrt, min_samples_leaf=1, min_samples_split=5, splitter=best;, score=0.714 total time=   0.0s\n",
      "[CV 9/10] END criterion=gini, max_depth=6, max_features=sqrt, min_samples_leaf=1, min_samples_split=5, splitter=best;, score=0.714 total time=   0.0s\n",
      "[CV 10/10] END criterion=gini, max_depth=6, max_features=sqrt, min_samples_leaf=1, min_samples_split=5, splitter=best;, score=0.857 total time=   0.0s\n",
      "Grid Search Complete.\n"
     ]
    }
   ],
   "source": [
    "print(\"Starting Grid Search...\")\n",
    "tree_cv.fit(X_train, Y_train)\n",
    "print(\"Grid Search Complete.\")\n"
   ]
  },
  {
   "cell_type": "code",
   "execution_count": 35,
   "metadata": {},
   "outputs": [
    {
     "name": "stdout",
     "output_type": "stream",
     "text": [
      "Fitting 2 folds for each of 1 candidates, totalling 2 fits\n",
      "[CV] END ........................criterion=gini, max_depth=2; total time=   0.0s\n",
      "[CV] END ........................criterion=gini, max_depth=2; total time=   0.0s\n",
      "Small Grid Search Complete.\n",
      "Best parameters:  {'criterion': 'gini', 'max_depth': 2}\n"
     ]
    }
   ],
   "source": [
    "small_parameters = {\n",
    "    'criterion': ['gini'],\n",
    "    'max_depth': [2]\n",
    "}\n",
    "small_tree_cv = GridSearchCV(tree, small_parameters, cv=2, verbose=2)\n",
    "small_tree_cv.fit(X_train, Y_train)\n",
    "print(\"Small Grid Search Complete.\")\n",
    "print(\"Best parameters: \", small_tree_cv.best_params_)\n"
   ]
  },
  {
   "cell_type": "code",
   "execution_count": null,
   "metadata": {},
   "outputs": [],
   "source": [
    "# Expanding the parameter grid slightly more than the small test\n",
    "expanded_parameters = {\n",
    "    'criterion': ['gini', 'entropy'],\n",
    "    'splitter': ['best', 'random'],\n",
    "    'max_depth': [2, 4, 6],\n",
    "    'max_features': ['auto', 'sqrt'],\n",
    "    'min_samples_leaf': [1],\n",
    "    'min_samples_split': [2, 5]\n",
    "}\n",
    "\n",
    "# Using more cross-validation folds than the smallest test, but fewer than the original large grid\n",
    "expanded_tree_cv = GridSearchCV(tree, expanded_parameters, cv=5, verbose=3)  # Moderate verbosity\n",
    "expanded_tree_cv.fit(X_train, Y_train)\n",
    "print(\"Expanded Grid Search Complete.\")\n",
    "print(\"Best parameters: \", expanded_tree_cv.best_params_)\n",
    "print(\"Accuracy on validation data: \", expanded_tree_cv.best_score_)\n"
   ]
  },
  {
   "cell_type": "markdown",
   "metadata": {},
   "source": [
    "#Expanded Grid Search Complete.\n",
    "#Best parameters:  {'criterion': 'gini', 'max_depth': 2, 'max_features': 'sqrt', 'min_samples_leaf': 1, 'min_samples_split': 5, 'splitter': 'best'}\n",
    "Accuracy on validation data:  0.8885714285714286\n"
   ]
  },
  {
   "cell_type": "markdown",
   "metadata": {},
   "source": [
    "## TASK  9\n"
   ]
  },
  {
   "cell_type": "markdown",
   "metadata": {},
   "source": [
    "Calculate the accuracy of tree_cv on the test data using the method <code>score</code>:\n"
   ]
  },
  {
   "cell_type": "code",
   "execution_count": 38,
   "metadata": {},
   "outputs": [
    {
     "name": "stdout",
     "output_type": "stream",
     "text": [
      "Accuracy on test data:  0.8333333333333334\n"
     ]
    }
   ],
   "source": [
    "# Calculate the accuracy on the test data\n",
    "test_accuracy = tree_cv.score(X_test, Y_test)\n",
    "print(\"Accuracy on test data: \", test_accuracy)\n"
   ]
  },
  {
   "cell_type": "markdown",
   "metadata": {},
   "source": [
    "We can plot the confusion matrix\n"
   ]
  },
  {
   "cell_type": "code",
   "execution_count": 39,
   "metadata": {},
   "outputs": [
    {
     "data": {
      "image/png": "[encoded data removed]",
      "text/plain": [
       "<Figure size 640x480 with 2 Axes>"
      ]
     },
     "metadata": {},
     "output_type": "display_data"
    }
   ],
   "source": [
    "from sklearn.metrics import confusion_matrix, ConfusionMatrixDisplay\n",
    "import matplotlib.pyplot as plt\n",
    "\n",
    "# Predict the test set results\n",
    "yhat = tree_cv.predict(X_test)\n",
    "\n",
    "# Compute the confusion matrix\n",
    "cm = confusion_matrix(Y_test, yhat)\n",
    "\n",
    "# Plot the confusion matrix\n",
    "disp = ConfusionMatrixDisplay(confusion_matrix=cm)\n",
    "disp.plot()\n",
    "plt.title('Confusion Matrix')\n",
    "plt.show()\n"
   ]
  },
  {
   "cell_type": "markdown",
   "metadata": {},
   "source": [
    "## TASK  10\n"
   ]
  },
  {
   "cell_type": "markdown",
   "metadata": {},
   "source": [
    "Create a k nearest neighbors object then  create a  <code>GridSearchCV</code> object  <code>knn_cv</code> with cv = 10.  Fit the object to find the best parameters from the dictionary <code>parameters</code>.\n"
   ]
  },
  {
   "cell_type": "code",
   "execution_count": 40,
   "metadata": {},
   "outputs": [
    {
     "name": "stdout",
     "output_type": "stream",
     "text": [
      "Tuned hyperparameters (best parameters):  {'algorithm': 'auto', 'n_neighbors': 10, 'p': 1}\n",
      "Accuracy on validation data:  0.8482142857142858\n"
     ]
    }
   ],
   "source": [
    "from sklearn.neighbors import KNeighborsClassifier\n",
    "from sklearn.model_selection import GridSearchCV\n",
    "\n",
    "# Define the K-Nearest Neighbors classifier\n",
    "KNN = KNeighborsClassifier()\n",
    "\n",
    "# Parameters dictionary for GridSearchCV\n",
    "parameters = {\n",
    "    'n_neighbors': list(range(1, 11)),  # Using a list of neighbors from 1 to 10\n",
    "    'algorithm': ['auto', 'ball_tree', 'kd_tree', 'brute'],\n",
    "    'p': [1, 2]  # 1 corresponds to Manhattan distance, 2 to Euclidean distance\n",
    "}\n",
    "\n",
    "# Create a GridSearchCV object with the KNN model\n",
    "knn_cv = GridSearchCV(KNN, parameters, cv=10)\n",
    "\n",
    "# Fit GridSearchCV to the training data\n",
    "knn_cv.fit(X_train, Y_train)\n",
    "\n",
    "# Display the best hyperparameters and the accuracy of the best model\n",
    "print(\"Tuned hyperparameters (best parameters): \", knn_cv.best_params_)\n",
    "print(\"Accuracy on validation data: \", knn_cv.best_score_)\n"
   ]
  },
  {
   "cell_type": "markdown",
   "metadata": {},
   "source": [
    "## TASK  11\n"
   ]
  },
  {
   "cell_type": "markdown",
   "metadata": {},
   "source": [
    "Calculate the accuracy of knn_cv on the test data using the method <code>score</code>:\n"
   ]
  },
  {
   "cell_type": "code",
   "execution_count": 42,
   "metadata": {},
   "outputs": [
    {
     "name": "stdout",
     "output_type": "stream",
     "text": [
      "Accuracy on test data:  0.8333333333333334\n"
     ]
    }
   ],
   "source": [
    "# Calculate the accuracy on the test data\n",
    "test_accuracy = knn_cv.score(X_test, Y_test)\n",
    "\n",
    "# Print the accuracy on the test data\n",
    "print(\"Accuracy on test data: \", test_accuracy)\n"
   ]
  },
  {
   "cell_type": "markdown",
   "metadata": {},
   "source": [
    "We can plot the confusion matrix\n"
   ]
  },
  {
   "cell_type": "code",
   "execution_count": 43,
   "metadata": {},
   "outputs": [
    {
     "data": {
      "image/png": "[encoded data removed]",
      "text/plain": [
       "<Figure size 640x480 with 2 Axes>"
      ]
     },
     "metadata": {},
     "output_type": "display_data"
    }
   ],
   "source": [
    "yhat = knn_cv.predict(X_test)\n",
    "plot_confusion_matrix(Y_test,yhat)"
   ]
  },
  {
   "cell_type": "markdown",
   "metadata": {},
   "source": [
    "## TASK  12\n"
   ]
  },
  {
   "cell_type": "markdown",
   "metadata": {},
   "source": [
    "Find the method performs best:\n"
   ]
  },
  {
   "cell_type": "markdown",
   "metadata": {},
   "source": [
    "<h2>All models have the same test accuracy of 0.8333, which suggests that they are equally effective on the test set. However, when considering the validation accuracy, the Decision Tree model shows a slightly higher validation accuracy of 0.8886, making it the best model in terms of generalizing well on unseen data from the validation set. Thus, based on the information available, the Decision Tree model is comparatively best. "
   ]
  },
  {
   "cell_type": "markdown",
   "metadata": {},
   "source": [
    "## Authors\n"
   ]
  },
  {
   "cell_type": "markdown",
   "metadata": {},
   "source": [
    "[Pratiksha Verma](https://www.linkedin.com/in/pratiksha-verma-6487561b1/?utm_medium=Exinfluencer&utm_source=Exinfluencer&utm_content=000026UJ&utm_term=10006555&utm_id=NA-SkillsNetwork-Channel-SkillsNetworkCoursesIBMDS0321ENSkillsNetwork865-2023-01-01)\n"
   ]
  },
  {
   "cell_type": "markdown",
   "metadata": {},
   "source": [
    "## Change Log\n"
   ]
  },
  {
   "cell_type": "markdown",
   "metadata": {},
   "source": [
    "| Date (YYYY-MM-DD) | Version | Changed By      | Change Description      |\n",
    "| ----------------- | ------- | -------------   | ----------------------- |\n",
    "| 2022-11-09        | 1.0     | Pratiksha Verma | Converted initial version to Jupyterlite|\n"
   ]
  },
  {
   "cell_type": "markdown",
   "metadata": {},
   "source": [
    "### <h3 align=\"center\"> IBM Corporation 2022. All rights reserved. <h3/>\n"
   ]
  }
 ],
 "metadata": {
  "kernelspec": {
   "display_name": "Python 3 (ipykernel)",
   "language": "python",
   "name": "python3"
  },
  "language_info": {
   "codemirror_mode": {
    "name": "ipython",
    "version": 3
   },
   "file_extension": ".py",
   "mimetype": "text/x-python",
   "name": "python",
   "nbconvert_exporter": "python",
   "pygments_lexer": "ipython3",
   "version": "3.11.7"
  }
 },
 "nbformat": 4,
 "nbformat_minor": 4
}
